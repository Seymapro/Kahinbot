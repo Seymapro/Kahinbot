{
 "cells": [
  {
   "cell_type": "code",
   "execution_count": 1,
   "metadata": {},
   "outputs": [],
   "source": [
    "from pypdf import PdfWriter, PdfReader"
   ]
  },
  {
   "cell_type": "code",
   "execution_count": 11,
   "metadata": {},
   "outputs": [],
   "source": [
    "PAGE_RANGE_TO_LIFE_PATHS = {\n",
    "    (130, 136): [(19, 10)],\n",
    "    (136, 142): [(28, 10)],\n",
    "    (142, 148): [(37, 10)],\n",
    "    (148, 153): [(46, 10)],\n",
    "    (154, 161): [(29, 11)],\n",
    "    (161, 167): [(38, 11)],\n",
    "    (167, 173): [(47, 11)],\n",
    "    (174, 180): [(20, 2)],\n",
    "    (181, 188): [(39, 12)],\n",
    "    (188, 194): [(48, 12)],\n",
    "    (195, 202): [(30, 3)],\n",
    "    (202, 207): [(21, 3), (12, 3)],\n",
    "    (209, 215): [(40, 4)],\n",
    "    (215, 221): [(22, 4)],\n",
    "    (221, 228): [(31, 4), (13, 4)],\n",
    "    (229, 236): [(32, 5), (23, 5)],\n",
    "    (236, 242): [(41, 5), (14, 5)],\n",
    "    (243, 249): [(15, 6)],\n",
    "    (249, 256): [(24, 6), (42, 6)],\n",
    "    (256, 263): [(33, 6)],\n",
    "    (264, 269): [(16, 7)],\n",
    "    (269, 276): [(25, 7)],\n",
    "    (276, 282): [(34, 7), (43, 7)],\n",
    "    (283, 289): [(17, 8)],\n",
    "    (289, 296): [(26, 8)],\n",
    "    (296, 303): [(35, 8)],\n",
    "    (303, 309): [(44, 8)],\n",
    "    (310, 316): [(18, 9)],\n",
    "    (316, 323): [(27, 9)],\n",
    "    (323, 331): [(36, 9)],\n",
    "    (331, 338): [(45, 9)],\n",
    "}"
   ]
  },
  {
   "cell_type": "code",
   "execution_count": 12,
   "metadata": {},
   "outputs": [],
   "source": [
    "reader = PdfReader(\"millman_1995.pdf\")"
   ]
  },
  {
   "cell_type": "code",
   "execution_count": 13,
   "metadata": {},
   "outputs": [],
   "source": [
    "for (start, end), life_paths in PAGE_RANGE_TO_LIFE_PATHS.items():\n",
    "    for life_path in life_paths:\n",
    "        writer = PdfWriter()\n",
    "\n",
    "        for page in range(start, end):\n",
    "            writer.add_page(reader.pages[page])\n",
    "\n",
    "        with open(f\"PDFs/{life_path[0]}_{life_path[1]}.pdf\", \"wb\") as pdf:\n",
    "            writer.write(pdf)"
   ]
  }
 ],
 "metadata": {
  "kernelspec": {
   "display_name": ".venv",
   "language": "python",
   "name": "python3"
  },
  "language_info": {
   "codemirror_mode": {
    "name": "ipython",
    "version": 3
   },
   "file_extension": ".py",
   "mimetype": "text/x-python",
   "name": "python",
   "nbconvert_exporter": "python",
   "pygments_lexer": "ipython3",
   "version": "3.12.5"
  }
 },
 "nbformat": 4,
 "nbformat_minor": 2
}
