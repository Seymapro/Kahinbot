{
 "cells": [
  {
   "cell_type": "code",
   "execution_count": null,
   "metadata": {},
   "outputs": [],
   "source": [
    "import os\n",
    "import time\n",
    "import google.generativeai as genai\n",
    "from google.generativeai.types import HarmCategory, HarmBlockThreshold"
   ]
  },
  {
   "cell_type": "code",
   "execution_count": 19,
   "metadata": {},
   "outputs": [],
   "source": [
    "genai.configure(api_key=os.environ[\"GEMINI_API_KEY\"])"
   ]
  },
  {
   "cell_type": "code",
   "execution_count": 10,
   "metadata": {},
   "outputs": [],
   "source": [
    "# Create the model\n",
    "generation_config = {\n",
    "    \"temperature\": 1,\n",
    "    \"top_p\": 0.95,\n",
    "    \"top_k\": 64,\n",
    "    \"max_output_tokens\": 8192,\n",
    "    \"response_mime_type\": \"text/plain\",\n",
    "}\n",
    "\n",
    "model = genai.GenerativeModel(\n",
    "    model_name=\"gemini-1.5-pro\",\n",
    "    generation_config=generation_config,\n",
    "    safety_settings={\n",
    "        HarmCategory.HARM_CATEGORY_HARASSMENT: HarmBlockThreshold.BLOCK_NONE,\n",
    "        HarmCategory.HARM_CATEGORY_HATE_SPEECH: HarmBlockThreshold.BLOCK_NONE,\n",
    "        HarmCategory.HARM_CATEGORY_SEXUALLY_EXPLICIT: HarmBlockThreshold.BLOCK_NONE,\n",
    "        HarmCategory.HARM_CATEGORY_DANGEROUS_CONTENT: HarmBlockThreshold.BLOCK_NONE,\n",
    "    },\n",
    "    system_instruction=\"You are a professional summarizer specialized in Douglas Forbes' Human Pin Code and similar books. Summarize the given text into a list of bulletpoints. Use Turkish language. The summarization must be comprehensive. Output in the Markdown format.\",\n",
    ")"
   ]
  },
  {
   "cell_type": "code",
   "execution_count": 11,
   "metadata": {},
   "outputs": [],
   "source": [
    "def summarize(content_path: str, initial_path: str, summarization_path: str) -> None:\n",
    "    chat_session = model.start_chat(history=[])\n",
    "\n",
    "    content = \"\"\n",
    "\n",
    "    with open(initial_path, \"r\", encoding=\"UTF-8\") as f:\n",
    "        content += f.read()\n",
    "\n",
    "    with open(content_path, \"r\", encoding=\"UTF-8\") as f:\n",
    "        content += f\"\\n\\n{f.read()}\"\n",
    "\n",
    "    response = chat_session.send_message(content)\n",
    "\n",
    "    with open(summarization_path, \"w\", encoding=\"UTF-8\") as f:\n",
    "        f.write(response.text)"
   ]
  },
  {
   "cell_type": "code",
   "execution_count": 17,
   "metadata": {},
   "outputs": [],
   "source": [
    "paths = [\n",
    "    (\n",
    "        f\"./MDs/{md}\",\n",
    "        f'./MDs/{md.split(\".\")[0].split(\"_\")[0]}_initial.md',\n",
    "        f'./Summarizations/{md.split(\".\")[-2]}.md',\n",
    "    )\n",
    "    for md in sorted(os.listdir(\"./MDs/\"))\n",
    "]\n",
    "paths = paths[53:]"
   ]
  },
  {
   "cell_type": "code",
   "execution_count": null,
   "metadata": {},
   "outputs": [],
   "source": [
    "for content_path, initial_path, summ_path in paths:\n",
    "    print(content_path, initial_path, summ_path)\n",
    "\n",
    "    summarize(content_path, initial_path, summ_path)\n",
    "\n",
    "    time.sleep(30)"
   ]
  },
  {
   "cell_type": "code",
   "execution_count": null,
   "metadata": {},
   "outputs": [],
   "source": []
  }
 ],
 "metadata": {
  "kernelspec": {
   "display_name": "Python 3",
   "language": "python",
   "name": "python3"
  },
  "language_info": {
   "codemirror_mode": {
    "name": "ipython",
    "version": 3
   },
   "file_extension": ".py",
   "mimetype": "text/x-python",
   "name": "python",
   "nbconvert_exporter": "python",
   "pygments_lexer": "ipython3",
   "version": "3.11.2"
  }
 },
 "nbformat": 4,
 "nbformat_minor": 2
}
