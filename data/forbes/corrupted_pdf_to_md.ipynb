{
 "cells": [
  {
   "cell_type": "code",
   "execution_count": null,
   "metadata": {},
   "outputs": [],
   "source": [
    "import os\n",
    "import time\n",
    "import google.generativeai as genai\n",
    "from google.generativeai.types import HarmCategory, HarmBlockThreshold"
   ]
  },
  {
   "cell_type": "code",
   "execution_count": 2,
   "metadata": {},
   "outputs": [],
   "source": [
    "genai.configure(api_key=os.environ['GEMINI_API_KEY'])"
   ]
  },
  {
   "cell_type": "code",
   "execution_count": 3,
   "metadata": {},
   "outputs": [],
   "source": [
    "def upload_to_gemini(path, mime_type=None):\n",
    "    \"\"\"Uploads the given file to Gemini.\n",
    "\n",
    "    See https://ai.google.dev/gemini-api/docs/prompting_with_media\n",
    "    \"\"\"\n",
    "    file = genai.upload_file(path, mime_type=mime_type)\n",
    "    print(f\"Uploaded file '{file.display_name}' as: {file.uri}\")\n",
    "    return file"
   ]
  },
  {
   "cell_type": "code",
   "execution_count": 4,
   "metadata": {},
   "outputs": [],
   "source": [
    "def wait_for_files_active(files):\n",
    "    \"\"\"Waits for the given files to be active.\n",
    "\n",
    "    Some files uploaded to the Gemini API need to be processed before they can be\n",
    "    used as prompt inputs. The status can be seen by querying the file's \"state\"\n",
    "    field.\n",
    "\n",
    "    This implementation uses a simple blocking polling loop. Production code\n",
    "    should probably employ a more sophisticated approach.\n",
    "    \"\"\"\n",
    "    print(\"Waiting for file processing...\")\n",
    "    for name in (file.name for file in files):\n",
    "        file = genai.get_file(name)\n",
    "        while file.state.name == \"PROCESSING\":\n",
    "            print(\".\", end=\"\", flush=True)\n",
    "            time.sleep(10)\n",
    "            file = genai.get_file(name)\n",
    "        if file.state.name != \"ACTIVE\":\n",
    "            raise Exception(f\"File {file.name} failed to process\")\n",
    "    print(\"...all files ready\")\n",
    "    print()"
   ]
  },
  {
   "cell_type": "code",
   "execution_count": 5,
   "metadata": {},
   "outputs": [],
   "source": [
    "# Create the model\n",
    "model = genai.GenerativeModel(\n",
    "    model_name=\"gemini-1.5-pro\",\n",
    "    generation_config={\n",
    "        \"temperature\": 1,\n",
    "        \"top_p\": 0.95,\n",
    "        \"top_k\": 64,\n",
    "        \"max_output_tokens\": 8192,\n",
    "        \"response_mime_type\": \"text/plain\",\n",
    "    },\n",
    "    safety_settings={\n",
    "        HarmCategory.HARM_CATEGORY_HARASSMENT: HarmBlockThreshold.BLOCK_NONE,\n",
    "        HarmCategory.HARM_CATEGORY_HATE_SPEECH: HarmBlockThreshold.BLOCK_NONE,\n",
    "        HarmCategory.HARM_CATEGORY_SEXUALLY_EXPLICIT: HarmBlockThreshold.BLOCK_NONE,\n",
    "        HarmCategory.HARM_CATEGORY_DANGEROUS_CONTENT: HarmBlockThreshold.BLOCK_NONE,\n",
    "    },\n",
    "    system_instruction=\"You are a professional text to Markdown converter specialized in corrupted files in Turkish.\\n\\n1. Extract the text from the document.\\n2. De-hyphenate the raw text.\\n3. Convert the de-hyphenated raw text to Markdown format.\\n4. Fix the corrupted parts (e.g. typos, spaces between characters and/or words, incorrect paragraph separation because of page ending, etc.)\\n\\nThe Markdown output should have appropriate syntax for the titles, lists and other elements. There must be a double new line between the paragraphs. It should have no additional changes. Do not provide additional output.\",\n",
    ")"
   ]
  },
  {
   "cell_type": "code",
   "execution_count": 6,
   "metadata": {},
   "outputs": [],
   "source": [
    "def corrupted_pdf_to_markdown(pdf_path: str, markdown_path: str) -> None:\n",
    "    files = [\n",
    "        upload_to_gemini(pdf_path, mime_type=\"application/pdf\"),\n",
    "    ]\n",
    "    wait_for_files_active(files)\n",
    "\n",
    "    chat_session = model.start_chat(\n",
    "        history=[\n",
    "            {\n",
    "                \"role\": \"user\",\n",
    "                \"parts\": [\n",
    "                    files[0],\n",
    "                ],\n",
    "            },\n",
    "        ]\n",
    "    )\n",
    "\n",
    "    life_path = pdf_path.split(\"/\")[-1].split(\".\")[0].replace(\"_\", \"/\")\n",
    "\n",
    "    response = chat_session.send_message(f\"Convert this document into Markdown format.\")\n",
    "\n",
    "    files[0].delete()\n",
    "\n",
    "    with open(markdown_path, \"w\", encoding=\"UTF-8\") as f:\n",
    "        f.write(response.text)"
   ]
  },
  {
   "cell_type": "code",
   "execution_count": 14,
   "metadata": {},
   "outputs": [],
   "source": [
    "paths = [\n",
    "    (f\"./PDFs/{pdf}\", f\"./MDs/{pdf.split('.')[0]}.md\") for pdf in sorted(os.listdir(\"./PDFs/\"))\n",
    "]\n",
    "paths = paths[84:]"
   ]
  },
  {
   "cell_type": "code",
   "execution_count": null,
   "metadata": {},
   "outputs": [],
   "source": [
    "for pdf_path, md_path in paths:\n",
    "    print(pdf_path, md_path)\n",
    "    corrupted_pdf_to_markdown(pdf_path, md_path)\n",
    "\n",
    "    time.sleep(30)"
   ]
  },
  {
   "cell_type": "code",
   "execution_count": null,
   "metadata": {},
   "outputs": [],
   "source": []
  }
 ],
 "metadata": {
  "kernelspec": {
   "display_name": "Python 3",
   "language": "python",
   "name": "python3"
  },
  "language_info": {
   "codemirror_mode": {
    "name": "ipython",
    "version": 3
   },
   "file_extension": ".py",
   "mimetype": "text/x-python",
   "name": "python",
   "nbconvert_exporter": "python",
   "pygments_lexer": "ipython3",
   "version": "3.11.2"
  }
 },
 "nbformat": 4,
 "nbformat_minor": 2
}
